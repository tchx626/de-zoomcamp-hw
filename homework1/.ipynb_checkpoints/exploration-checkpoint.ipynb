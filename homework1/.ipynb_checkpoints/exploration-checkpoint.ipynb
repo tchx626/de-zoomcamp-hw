{
 "cells": [
  {
   "cell_type": "code",
   "execution_count": 11,
   "id": "75c552fc-0b9e-4cfb-9941-ca3a40c8948f",
   "metadata": {},
   "outputs": [],
   "source": [
    "url1 = 'https://github.com/DataTalksClub/nyc-tlc-data/releases/download/green/green_tripdata_2019-10.csv.gz'"
   ]
  },
  {
   "cell_type": "code",
   "execution_count": 22,
   "id": "2997618c-25bb-4e51-be07-c3640a7d98e1",
   "metadata": {},
   "outputs": [],
   "source": [
    "import os\n",
    "import gzip\n",
    "import shutil\n"
   ]
  },
  {
   "cell_type": "code",
   "execution_count": 25,
   "id": "016aedb4-807e-4201-a90d-407acb1aa0b1",
   "metadata": {},
   "outputs": [],
   "source": [
    "with gzip.open('green_tripdata_2019-10.csv.gz', 'rb') as gz_file:\n",
    "     with open('green_tripdata_2019-10.csv', 'wb') as csv_file:\n",
    "        shutil.copyfileobj(gz_file, csv_file)"
   ]
  },
  {
   "cell_type": "code",
   "execution_count": 26,
   "id": "f5c1d741-d447-4531-bf58-d820a085c7a2",
   "metadata": {},
   "outputs": [
    {
     "ename": "ModuleNotFoundError",
     "evalue": "No module named 'pandas'",
     "output_type": "error",
     "traceback": [
      "\u001b[1;31m---------------------------------------------------------------------------\u001b[0m",
      "\u001b[1;31mModuleNotFoundError\u001b[0m                       Traceback (most recent call last)",
      "Cell \u001b[1;32mIn[26], line 1\u001b[0m\n\u001b[1;32m----> 1\u001b[0m \u001b[38;5;28;01mimport\u001b[39;00m \u001b[38;5;21;01mpandas\u001b[39;00m \u001b[38;5;28;01mas\u001b[39;00m \u001b[38;5;21;01mpd\u001b[39;00m\n\u001b[0;32m      3\u001b[0m df\u001b[38;5;241m=\u001b[39mpd\u001b[38;5;241m.\u001b[39mread_csv(\u001b[38;5;124m'\u001b[39m\u001b[38;5;124mgreen_tripdata_2019-10.csv\u001b[39m\u001b[38;5;124m'\u001b[39m)\n",
      "\u001b[1;31mModuleNotFoundError\u001b[0m: No module named 'pandas'"
     ]
    }
   ],
   "source": [
    "import pandas as pd\n",
    "\n",
    "df=pd.read_csv('green_tripdata_2019-10.csv')"
   ]
  }
 ],
 "metadata": {
  "kernelspec": {
   "display_name": "Python 3 (ipykernel)",
   "language": "python",
   "name": "python3"
  },
  "language_info": {
   "codemirror_mode": {
    "name": "ipython",
    "version": 3
   },
   "file_extension": ".py",
   "mimetype": "text/x-python",
   "name": "python",
   "nbconvert_exporter": "python",
   "pygments_lexer": "ipython3",
   "version": "3.12.6"
  }
 },
 "nbformat": 4,
 "nbformat_minor": 5
}
